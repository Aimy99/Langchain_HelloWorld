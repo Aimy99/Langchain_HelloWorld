{
  "cells": [
    {
      "cell_type": "markdown",
      "metadata": {
        "id": "view-in-github",
        "colab_type": "text"
      },
      "source": [
        "<a href=\"https://colab.research.google.com/github/Aimy99/Langchain_HelloWorld/blob/main/Langchain_HelloWorld.ipynb\" target=\"_parent\"><img src=\"https://colab.research.google.com/assets/colab-badge.svg\" alt=\"Open In Colab\"/></a>"
      ]
    },
    {
      "cell_type": "code",
      "execution_count": null,
      "metadata": {
        "id": "PWQINlF9Tr6j"
      },
      "outputs": [],
      "source": [
        "# Project 1: LangChain Hello World Project - Aiman Baquar"
      ]
    },
    {
      "cell_type": "code",
      "execution_count": null,
      "metadata": {
        "colab": {
          "base_uri": "https://localhost:8080/"
        },
        "collapsed": true,
        "id": "ZXKLwHAtL2Og",
        "outputId": "01ec126c-d68c-425c-cbc8-a5b8d5796cda"
      },
      "outputs": [
        {
          "name": "stdout",
          "output_type": "stream",
          "text": [
            "\u001b[?25l   \u001b[90m━━━━━━━━━━━━━━━━━━━━━━━━━━━━━━━━━━━━━━━━\u001b[0m \u001b[32m0.0/1.0 MB\u001b[0m \u001b[31m?\u001b[0m eta \u001b[36m-:--:--\u001b[0m\r\u001b[2K   \u001b[91m━━━━━━━━━━━━━━━━━━━\u001b[0m\u001b[90m╺\u001b[0m\u001b[90m━━━━━━━━━━━━━━━━━━━━\u001b[0m \u001b[32m0.5/1.0 MB\u001b[0m \u001b[31m17.2 MB/s\u001b[0m eta \u001b[36m0:00:01\u001b[0m\r\u001b[2K   \u001b[90m━━━━━━━━━━━━━━━━━━━━━━━━━━━━━━━━━━━━━━━━\u001b[0m \u001b[32m1.0/1.0 MB\u001b[0m \u001b[31m18.3 MB/s\u001b[0m eta \u001b[36m0:00:00\u001b[0m\n",
            "\u001b[2K   \u001b[90m━━━━━━━━━━━━━━━━━━━━━━━━━━━━━━━━━━━━━━━━\u001b[0m \u001b[32m411.6/411.6 kB\u001b[0m \u001b[31m11.7 MB/s\u001b[0m eta \u001b[36m0:00:00\u001b[0m\n",
            "\u001b[2K   \u001b[90m━━━━━━━━━━━━━━━━━━━━━━━━━━━━━━━━━━━━━━━━\u001b[0m \u001b[32m2.5/2.5 MB\u001b[0m \u001b[31m40.6 MB/s\u001b[0m eta \u001b[36m0:00:00\u001b[0m\n",
            "\u001b[2K   \u001b[90m━━━━━━━━━━━━━━━━━━━━━━━━━━━━━━━━━━━━━━━━\u001b[0m \u001b[32m49.3/49.3 kB\u001b[0m \u001b[31m3.9 MB/s\u001b[0m eta \u001b[36m0:00:00\u001b[0m\n",
            "\u001b[?25h"
          ]
        }
      ],
      "source": [
        "# Installing Langchain\n",
        "!pip install -q -U langchain\n",
        "!pip install -q -U langchain_community"
      ]
    },
    {
      "cell_type": "code",
      "execution_count": null,
      "metadata": {
        "colab": {
          "background_save": true,
          "base_uri": "https://localhost:8080/"
        },
        "collapsed": true,
        "id": "lYnZRH0MZe8f",
        "outputId": "11b03417-83de-4f52-9a6a-f83a687b446c"
      },
      "outputs": [
        {
          "name": "stdout",
          "output_type": "stream",
          "text": [
            "\u001b[?25l   \u001b[90m━━━━━━━━━━━━━━━━━━━━━━━━━━━━━━━━━━━━━━━━\u001b[0m \u001b[32m0.0/41.3 kB\u001b[0m \u001b[31m?\u001b[0m eta \u001b[36m-:--:--\u001b[0m\r\u001b[2K   \u001b[90m━━━━━━━━━━━━━━━━━━━━━━━━━━━━━━━━━━━━━━━━\u001b[0m \u001b[32m41.3/41.3 kB\u001b[0m \u001b[31m1.0 MB/s\u001b[0m eta \u001b[36m0:00:00\u001b[0m\n",
            "\u001b[?25h"
          ]
        }
      ],
      "source": [
        "# Installing LangChain's Google GenAI integration\n",
        "!pip install -q -U langchain-google-genai"
      ]
    },
    {
      "cell_type": "code",
      "execution_count": 4,
      "metadata": {
        "colab": {
          "base_uri": "https://localhost:8080/"
        },
        "id": "ReqZUz02xz-5",
        "outputId": "d6c8ecc2-f9ee-4a9b-c91c-fe1dcd872f46"
      },
      "outputs": [
        {
          "output_type": "stream",
          "name": "stdout",
          "text": [
            "GEMINI_API_KEY\n"
          ]
        }
      ],
      "source": [
        "# Importing userdata from Google Colab to securely store API keys\n",
        "from google.colab import userdata\n",
        "userdata.get('GEMINI_API_KEY')\n",
        "\n",
        "google_api_key = userdata.get('GEMINI_API_KEY')\n",
        "\n",
        "# Setting API Key Environment\n",
        "import os\n",
        "\n",
        "# Set the environment variable\n",
        "os.environ['GEMINI_API_KEY'] = 'GEMINI_API_KEY'\n",
        "\n",
        "# Verify that the environment variable is set\n",
        "print(os.environ['GEMINI_API_KEY'])"
      ]
    },
    {
      "cell_type": "code",
      "execution_count": 5,
      "metadata": {
        "id": "X4TtLgLnoR0D"
      },
      "outputs": [],
      "source": [
        "# Importing GoogleGenAIChat Class from Google Gemini Langchain module\n",
        "from langchain_google_genai import ChatGoogleGenerativeAI\n",
        "\n",
        "# Importing AI message class for typing\n",
        "from langchain_core.messages.ai import AIMessage"
      ]
    },
    {
      "cell_type": "code",
      "execution_count": 6,
      "metadata": {
        "id": "_HVdah-owaIp"
      },
      "outputs": [],
      "source": [
        "# Initializing ChatGoogleGenerativeAI instance for passing Parameters\n",
        "llm: ChatGoogleGenerativeAI = ChatGoogleGenerativeAI(\n",
        "    model=\"gemini-2.0-flash-exp\",\n",
        "    api_key= google_api_key,\n",
        "    temperature=0.2,\n",
        ")"
      ]
    },
    {
      "cell_type": "code",
      "execution_count": 7,
      "metadata": {
        "colab": {
          "base_uri": "https://localhost:8080/"
        },
        "collapsed": true,
        "id": "DeyB54iNwzdS",
        "outputId": "77131cbb-f782-4ade-c15b-15befe3f874d"
      },
      "outputs": [
        {
          "output_type": "execute_result",
          "data": {
            "text/plain": [
              "AIMessage(content='The tradition of \"Hello, World!\" as a programmer\\'s first program is deeply ingrained in the history of computing and serves several important purposes, making it a near-universal starting point. Here\\'s a breakdown of why:\\n\\n**1. Simplicity and Accessibility:**\\n\\n* **Minimal Code:** \"Hello, World!\" is incredibly simple. It typically involves just a few lines of code, often just one or two in many languages. This makes it easy for beginners to grasp the basic syntax and structure of a programming language without getting bogged down in complex logic.\\n* **Focus on the Fundamentals:** The goal is to get something, *anything*, to run and display output. This allows beginners to focus on the core mechanics of:\\n    * **Writing Code:** Understanding how to type code into an editor.\\n    * **Compiling/Interpreting:** Learning how to translate the code into something the computer can understand.\\n    * **Running the Program:** Executing the compiled/interpreted code.\\n    * **Seeing Output:** Observing the result of their code on the screen.\\n* **Low Barrier to Entry:** The simplicity of \"Hello, World!\" makes it less intimidating for newcomers. It\\'s a gentle introduction to the world of programming, avoiding overwhelming complexity right from the start.\\n\\n**2. Testing the Environment:**\\n\\n* **Verifying Setup:** Before diving into more complex projects, \"Hello, World!\" acts as a quick test to ensure that the programming environment is set up correctly. This includes:\\n    * **Compiler/Interpreter Installation:** Confirming that the necessary tools are installed and functioning.\\n    * **Path Configuration:** Ensuring that the system can find the compiler/interpreter.\\n    * **Basic Functionality:** Verifying that the system can execute code and display output.\\n* **Troubleshooting Tool:** If \"Hello, World!\" doesn\\'t work, it immediately signals a problem with the environment, allowing the programmer to address those issues before moving on.\\n\\n**3. Historical Significance:**\\n\\n* **Brian Kernighan\\'s Influence:** The \"Hello, World!\" program gained widespread popularity after being featured in the 1978 book \"The C Programming Language\" by Brian Kernighan and Dennis Ritchie. This book was highly influential in the development of modern programming practices.\\n* **Tradition and Culture:** Over time, \"Hello, World!\" has become a programming tradition, a rite of passage for aspiring developers. It\\'s a shared experience that connects programmers across different languages and backgrounds.\\n\\n**4. Psychological Benefits:**\\n\\n* **Sense of Accomplishment:** Successfully running \"Hello, World!\" provides a small but significant sense of accomplishment for beginners. It\\'s a tangible result of their efforts and can be motivating to continue learning.\\n* **Building Confidence:** This initial success helps build confidence and encourages beginners to tackle more challenging tasks.\\n\\n**In Summary:**\\n\\n\"Hello, World!\" is not just a simple program; it\\'s a carefully chosen starting point that serves multiple purposes:\\n\\n* **It\\'s a gentle introduction to programming concepts.**\\n* **It\\'s a practical test of the programming environment.**\\n* **It\\'s a historical tradition that connects programmers.**\\n* **It\\'s a confidence booster for beginners.**\\n\\nBy starting with \"Hello, World!\", programmers can focus on the fundamental mechanics of coding and build a solid foundation for their future learning journey. It\\'s a simple yet powerful first step into the world of programming.\\n', additional_kwargs={}, response_metadata={'prompt_feedback': {'block_reason': 0, 'safety_ratings': []}, 'finish_reason': 'STOP', 'safety_ratings': [{'category': 'HARM_CATEGORY_HATE_SPEECH', 'probability': 'NEGLIGIBLE', 'blocked': False}, {'category': 'HARM_CATEGORY_DANGEROUS_CONTENT', 'probability': 'NEGLIGIBLE', 'blocked': False}, {'category': 'HARM_CATEGORY_HARASSMENT', 'probability': 'NEGLIGIBLE', 'blocked': False}, {'category': 'HARM_CATEGORY_SEXUALLY_EXPLICIT', 'probability': 'NEGLIGIBLE', 'blocked': False}]}, id='run-e233a943-c751-4bed-91ef-ab139ae0de2c-0', usage_metadata={'input_tokens': 12, 'output_tokens': 715, 'total_tokens': 727, 'input_token_details': {'cache_read': 0}})"
            ]
          },
          "metadata": {},
          "execution_count": 7
        }
      ],
      "source": [
        "# Use the LangChain model with a prompt to invoke a response\n",
        "ai_msg: AIMessage = llm.invoke(\"Explain why every programmer's first program is Hello World\")\n",
        "\n",
        "ai_msg"
      ]
    },
    {
      "cell_type": "code",
      "execution_count": 8,
      "metadata": {
        "colab": {
          "base_uri": "https://localhost:8080/"
        },
        "collapsed": true,
        "id": "Ab2UlLHIzeGy",
        "outputId": "93cb9918-eeff-413d-d3aa-e1bfc4ad368e"
      },
      "outputs": [
        {
          "output_type": "stream",
          "name": "stdout",
          "text": [
            "The tradition of \"Hello, World!\" as a programmer's first program is deeply ingrained in the history of computing and serves several important purposes, making it a near-universal starting point. Here's a breakdown of why:\n",
            "\n",
            "**1. Simplicity and Accessibility:**\n",
            "\n",
            "* **Minimal Code:** \"Hello, World!\" is incredibly simple. It typically involves just a few lines of code, often just one or two in many languages. This makes it easy for beginners to grasp the basic syntax and structure of a programming language without getting bogged down in complex logic.\n",
            "* **Focus on the Fundamentals:** The goal is to get something, *anything*, to run and display output. This allows beginners to focus on the core mechanics of:\n",
            "    * **Writing Code:** Understanding how to type code into an editor.\n",
            "    * **Compiling/Interpreting:** Learning how to translate the code into something the computer can understand.\n",
            "    * **Running the Program:** Executing the compiled/interpreted code.\n",
            "    * **Seeing Output:** Observing the result of their code on the screen.\n",
            "* **Low Barrier to Entry:** The simplicity of \"Hello, World!\" makes it less intimidating for newcomers. It's a gentle introduction to the world of programming, avoiding overwhelming complexity right from the start.\n",
            "\n",
            "**2. Testing the Environment:**\n",
            "\n",
            "* **Verifying Setup:** Before diving into more complex projects, \"Hello, World!\" acts as a quick test to ensure that the programming environment is set up correctly. This includes:\n",
            "    * **Compiler/Interpreter Installation:** Confirming that the necessary tools are installed and functioning.\n",
            "    * **Path Configuration:** Ensuring that the system can find the compiler/interpreter.\n",
            "    * **Basic Functionality:** Verifying that the system can execute code and display output.\n",
            "* **Troubleshooting Tool:** If \"Hello, World!\" doesn't work, it immediately signals a problem with the environment, allowing the programmer to address those issues before moving on.\n",
            "\n",
            "**3. Historical Significance:**\n",
            "\n",
            "* **Brian Kernighan's Influence:** The \"Hello, World!\" program gained widespread popularity after being featured in the 1978 book \"The C Programming Language\" by Brian Kernighan and Dennis Ritchie. This book was highly influential in the development of modern programming practices.\n",
            "* **Tradition and Culture:** Over time, \"Hello, World!\" has become a programming tradition, a rite of passage for aspiring developers. It's a shared experience that connects programmers across different languages and backgrounds.\n",
            "\n",
            "**4. Psychological Benefits:**\n",
            "\n",
            "* **Sense of Accomplishment:** Successfully running \"Hello, World!\" provides a small but significant sense of accomplishment for beginners. It's a tangible result of their efforts and can be motivating to continue learning.\n",
            "* **Building Confidence:** This initial success helps build confidence and encourages beginners to tackle more challenging tasks.\n",
            "\n",
            "**In Summary:**\n",
            "\n",
            "\"Hello, World!\" is not just a simple program; it's a carefully chosen starting point that serves multiple purposes:\n",
            "\n",
            "* **It's a gentle introduction to programming concepts.**\n",
            "* **It's a practical test of the programming environment.**\n",
            "* **It's a historical tradition that connects programmers.**\n",
            "* **It's a confidence booster for beginners.**\n",
            "\n",
            "By starting with \"Hello, World!\", programmers can focus on the fundamental mechanics of coding and build a solid foundation for their future learning journey. It's a simple yet powerful first step into the world of programming.\n",
            "\n"
          ]
        }
      ],
      "source": [
        "# Display Generated Message\n",
        "print(ai_msg.content)"
      ]
    },
    {
      "cell_type": "code",
      "execution_count": 9,
      "metadata": {
        "id": "Z5BMAihhzhTR"
      },
      "outputs": [],
      "source": [
        "# Installing text-format libraries\n",
        "import textwrap\n",
        "from IPython.display import Markdown\n",
        "\n",
        "# Defining Markdown functions\n",
        "def to_markdown(text) -> Markdown:\n",
        "    text: str = text.replace(\"•\", \"  *\")\n",
        "    return Markdown(textwrap.indent(text, \"> \", predicate=lambda _: True))"
      ]
    },
    {
      "cell_type": "code",
      "execution_count": 10,
      "metadata": {
        "colab": {
          "base_uri": "https://localhost:8080/",
          "height": 818
        },
        "collapsed": true,
        "id": "wgEwh0ZZ1ZCK",
        "outputId": "bab47d2b-7f84-4150-aa45-a76871cc6b77"
      },
      "outputs": [
        {
          "output_type": "execute_result",
          "data": {
            "text/plain": [
              "<IPython.core.display.Markdown object>"
            ],
            "text/markdown": "> The tradition of \"Hello, World!\" as a programmer's first program is deeply ingrained in the history of computing and serves several important purposes, making it a near-universal starting point. Here's a breakdown of why:\n> \n> **1. Simplicity and Accessibility:**\n> \n> * **Minimal Code:** \"Hello, World!\" is incredibly simple. It typically involves just a few lines of code, often just one or two in many languages. This makes it easy for beginners to grasp the basic syntax and structure of a programming language without getting bogged down in complex logic.\n> * **Focus on the Fundamentals:** The goal is to get something, *anything*, to run and display output. This allows beginners to focus on the core mechanics of:\n>     * **Writing Code:** Understanding how to type code into an editor.\n>     * **Compiling/Interpreting:** Learning how to translate the code into something the computer can understand.\n>     * **Running the Program:** Executing the compiled/interpreted code.\n>     * **Seeing Output:** Observing the result of their code on the screen.\n> * **Low Barrier to Entry:** The simplicity of \"Hello, World!\" makes it less intimidating for newcomers. It's a gentle introduction to the world of programming, avoiding overwhelming complexity right from the start.\n> \n> **2. Testing the Environment:**\n> \n> * **Verifying Setup:** Before diving into more complex projects, \"Hello, World!\" acts as a quick test to ensure that the programming environment is set up correctly. This includes:\n>     * **Compiler/Interpreter Installation:** Confirming that the necessary tools are installed and functioning.\n>     * **Path Configuration:** Ensuring that the system can find the compiler/interpreter.\n>     * **Basic Functionality:** Verifying that the system can execute code and display output.\n> * **Troubleshooting Tool:** If \"Hello, World!\" doesn't work, it immediately signals a problem with the environment, allowing the programmer to address those issues before moving on.\n> \n> **3. Historical Significance:**\n> \n> * **Brian Kernighan's Influence:** The \"Hello, World!\" program gained widespread popularity after being featured in the 1978 book \"The C Programming Language\" by Brian Kernighan and Dennis Ritchie. This book was highly influential in the development of modern programming practices.\n> * **Tradition and Culture:** Over time, \"Hello, World!\" has become a programming tradition, a rite of passage for aspiring developers. It's a shared experience that connects programmers across different languages and backgrounds.\n> \n> **4. Psychological Benefits:**\n> \n> * **Sense of Accomplishment:** Successfully running \"Hello, World!\" provides a small but significant sense of accomplishment for beginners. It's a tangible result of their efforts and can be motivating to continue learning.\n> * **Building Confidence:** This initial success helps build confidence and encourages beginners to tackle more challenging tasks.\n> \n> **In Summary:**\n> \n> \"Hello, World!\" is not just a simple program; it's a carefully chosen starting point that serves multiple purposes:\n> \n> * **It's a gentle introduction to programming concepts.**\n> * **It's a practical test of the programming environment.**\n> * **It's a historical tradition that connects programmers.**\n> * **It's a confidence booster for beginners.**\n> \n> By starting with \"Hello, World!\", programmers can focus on the fundamental mechanics of coding and build a solid foundation for their future learning journey. It's a simple yet powerful first step into the world of programming.\n"
          },
          "metadata": {},
          "execution_count": 10
        }
      ],
      "source": [
        "to_markdown(ai_msg.content)"
      ]
    }
  ],
  "metadata": {
    "colab": {
      "provenance": [],
      "authorship_tag": "ABX9TyPuKj1fRi+9NMPAXufUbOwd",
      "include_colab_link": true
    },
    "kernelspec": {
      "display_name": "Python 3",
      "name": "python3"
    },
    "language_info": {
      "name": "python"
    }
  },
  "nbformat": 4,
  "nbformat_minor": 0
}